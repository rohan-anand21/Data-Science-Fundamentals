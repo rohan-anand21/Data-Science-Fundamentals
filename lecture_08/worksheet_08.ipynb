{
 "cells": [
  {
   "attachments": {},
   "cell_type": "markdown",
   "metadata": {},
   "source": [
    "# Worksheet 08\n",
    "\n",
    "Name:  Rohan Anand\n",
    "\n",
    "UID: U23735730\n",
    "\n",
    "### Topics\n",
    "\n",
    "- Soft Clustering\n",
    "- Clustering Aggregation\n",
    "\n",
    "### Probability Review\n",
    "\n",
    "Read through [the following](https://medium.com/@gallettilance/overview-of-probability-3272b72c82c8)\n",
    "\n",
    "### Soft Clustering\n",
    "\n",
    "We generate 10 data points that come from a normal distribution with mean 5 and variance 1."
   ]
  },
  {
   "cell_type": "code",
   "execution_count": 17,
   "metadata": {},
   "outputs": [
    {
     "name": "stdout",
     "output_type": "stream",
     "text": [
      "[4.489000304558442, 3.1881990847673203, 3.677752580591954, 4.998275011684966, 6.574213367221136, 5.562121291796986, 5.134669295740058, 6.169851012541715, 5.1797142187059615, 4.010088277285393]\n"
     ]
    }
   ],
   "source": [
    "import random\n",
    "import numpy as np\n",
    "from sklearn.cluster import KMeans\n",
    "\n",
    "\n",
    "mean = 5\n",
    "stdev = 1\n",
    "\n",
    "c1 = np.random.normal(mean, stdev, 10).tolist()\n",
    "print(c1)"
   ]
  },
  {
   "cell_type": "markdown",
   "metadata": {},
   "source": [
    "a) Generate 10 more data points, this time coming from a normal distribution with mean 8 and variance 1."
   ]
  },
  {
   "cell_type": "code",
   "execution_count": 18,
   "metadata": {},
   "outputs": [
    {
     "name": "stdout",
     "output_type": "stream",
     "text": [
      "[7.680490809215315, 7.914944611336911, 6.87079372674043, 6.767963731651916, 8.357918266895211, 7.925396538543261, 8.040964332597055, 6.704784293518003, 9.865730196407435, 6.9274886079749]\n"
     ]
    }
   ],
   "source": [
    "c2 = np.random.normal(8, 1, 10).tolist()\n",
    "print(c2)"
   ]
  },
  {
   "cell_type": "markdown",
   "metadata": {},
   "source": [
    "b) Flip a fair coin 10 times. If the coin lands on H, then pick the last data point of `c1` and remove it from `c1`, if T then pick the last data point from `c2` and remove it from `c2`. Add these 10 points to a list called `data`."
   ]
  },
  {
   "cell_type": "code",
   "execution_count": 19,
   "metadata": {},
   "outputs": [
    {
     "name": "stdout",
     "output_type": "stream",
     "text": [
      "[6.9274886079749, 4.010088277285393, 9.865730196407435, 6.704784293518003, 8.040964332597055, 7.925396538543261, 8.357918266895211, 6.767963731651916, 5.1797142187059615, 6.87079372674043]\n"
     ]
    }
   ],
   "source": [
    "data = []\n",
    "for i in range(10):\n",
    "    # flip coin\n",
    "    coin_output = random.choice([0, 1])\n",
    "    if coin_output == 0:\n",
    "        p1 = c1.pop()\n",
    "        data.append(p1)\n",
    "    else:\n",
    "        p2 = c2.pop()\n",
    "        data.append(p2)\n",
    "print(data)"
   ]
  },
  {
   "cell_type": "markdown",
   "metadata": {},
   "source": [
    "c) This `data` is a Gaussian Mixture Distribution with 2 mixture components. Over the next few questions we will walk through the GMM algorithm to see if we can uncover the parameters we used to generate this data. First, please list all these parameters of the GMM that created `data` and the values we know they have."
   ]
  },
  {
   "cell_type": "markdown",
   "metadata": {},
   "source": [
    "The data is created from random values from two distributions."
   ]
  },
  {
   "cell_type": "markdown",
   "metadata": {},
   "source": [
    "d) Let's assume there are two mixture components (note: we could plot the data and make the observation that there are two clusters). The EM algorithm asks us to start with a random `mean_j`, `variance_j`, `P(C_j)` for each component j. One method we could use to find sensible values for these is to apply K means with k=2 here.\n",
    "\n",
    "1. the centroids would be the estimates of the `mean_j`\n",
    "2. the intra-cluster variance could be the estimate of `variance_j`\n",
    "3. the proportion of points in each cluster could be the estimate of `P(C_j)`\n",
    "\n",
    "Go through this process and list the parameter estimates it gives. Are they close or far from the true values?"
   ]
  },
  {
   "cell_type": "code",
   "execution_count": 20,
   "metadata": {},
   "outputs": [
    {
     "name": "stdout",
     "output_type": "stream",
     "text": [
      "[4.010088277285393, 5.1797142187059615]\n",
      "[6.9274886079749, 9.865730196407435, 6.704784293518003, 8.040964332597055, 7.925396538543261, 8.357918266895211, 6.767963731651916, 6.87079372674043]\n",
      "P(C_1) = 0.2,  P(C_2) = 0.8\n",
      "mean_1 = 4.5949012479956775,  mean_2 = 7.682629961791027\n",
      "var_1 = 0.3420062107109875,  var_2 = 1.053924132722905\n"
     ]
    }
   ],
   "source": [
    "kmeans = KMeans(2, init='k-means++').fit(X=np.array(data).reshape(-1, 1))\n",
    "\n",
    "c1 = [x[0] for x in filter(lambda x: x[1] == 0, zip(data, kmeans.labels_))]\n",
    "print(c1)\n",
    "c2 = [x[0] for x in filter(lambda x: x[1] == 1, zip(data, kmeans.labels_))]\n",
    "print(c2)\n",
    "\n",
    "prob_c = [ len(c1) / (len(c1) + len(c2)) , len(c2) / (len(c1) + len(c2)) ]\n",
    "mean = [ sum(c1)/len(c1) , sum(c2)/len(c2) ]\n",
    "var = [ sum(map(lambda x : (x - mean[0])**2, c1)) / len(c1) , sum(map(lambda x : (x - mean[1])**2, c2)) / len(c2) ]\n",
    "\n",
    "print(\"P(C_1) = \" + str(prob_c[0]) + \",  P(C_2) = \" + str(prob_c[1]))\n",
    "print(\"mean_1 = \" + str(mean[0]) + \",  mean_2 = \" + str(mean[1]))\n",
    "print(\"var_1 = \" + str(var[0]) + \",  var_2 = \" + str(var[1]))"
   ]
  },
  {
   "cell_type": "markdown",
   "metadata": {},
   "source": [
    "e) For each data point, compute `P(C_j | X_i)`. Comment on which cluster you think each point belongs to based on the estimated probabilities. How does that compare to the truth?"
   ]
  },
  {
   "cell_type": "code",
   "execution_count": 21,
   "metadata": {},
   "outputs": [
    {
     "name": "stdout",
     "output_type": "stream",
     "text": [
      "point =  6.9274886079749\n",
      "probability of observing that point if it came from cluster 0 =  9.245435263107942e-11\n",
      "probability of observing that point if it came from cluster 1 =  0.2928343086814163\n",
      "point =  4.010088277285393\n",
      "probability of observing that point if it came from cluster 0 =  0.2703672913694235\n",
      "probability of observing that point if it came from cluster 1 =  0.0008736750314946848\n",
      "point =  9.865730196407435\n",
      "probability of observing that point if it came from cluster 0 =  3.099485417715015e-52\n",
      "probability of observing that point if it came from cluster 1 =  0.044298188659475116\n",
      "point =  6.704784293518003\n",
      "probability of observing that point if it came from cluster 0 =  6.34793933359165e-09\n",
      "probability of observing that point if it came from cluster 1 =  0.2461341662741961\n",
      "point =  8.040964332597055\n",
      "probability of observing that point if it came from cluster 0 =  1.048878303469228e-22\n",
      "probability of observing that point if it came from cluster 1 =  0.35727158152728333\n",
      "point =  7.925396538543261\n",
      "probability of observing that point if it came from cluster 0 =  2.9827560836693873e-21\n",
      "probability of observing that point if it came from cluster 1 =  0.36862017459035284\n",
      "point =  8.357918266895211\n",
      "probability of observing that point if it came from cluster 0 =  6.009059752510742e-27\n",
      "probability of observing that point if it came from cluster 1 =  0.3082848691080146\n",
      "point =  6.767963731651916\n",
      "probability of observing that point if it came from cluster 0 =  1.996571237834018e-09\n",
      "probability of observing that point if it came from cluster 1 =  0.2597447723003148\n",
      "point =  5.1797142187059615\n",
      "probability of observing that point if it came from cluster 0 =  0.2703672913694235\n",
      "probability of observing that point if it came from cluster 1 =  0.02256344156905975\n",
      "point =  6.87079372674043\n",
      "probability of observing that point if it came from cluster 0 =  2.8247426300366285e-10\n",
      "probability of observing that point if it came from cluster 1 =  0.28135475537908167\n",
      "6.9274886079749\n",
      "Probability of coming from C_1 = 7.893060160888283e-11\n",
      "Probability of coming from C_2 = 0.9999999999210694\n",
      "\n",
      "4.010088277285393\n",
      "Probability of coming from C_1 = 0.9872391926061145\n",
      "Probability of coming from C_2 = 0.012760807393885507\n",
      "\n",
      "9.865730196407435\n",
      "Probability of coming from C_1 = 1.749216791650946e-51\n",
      "Probability of coming from C_2 = 1.0\n",
      "\n",
      "6.704784293518003\n",
      "Probability of coming from C_1 = 6.4476413298821965e-09\n",
      "Probability of coming from C_2 = 0.9999999935523586\n",
      "\n",
      "8.040964332597055\n",
      "Probability of coming from C_1 = 7.339502759955241e-23\n",
      "Probability of coming from C_2 = 1.0\n",
      "\n",
      "7.925396538543261\n",
      "Probability of coming from C_1 = 2.0229197214884676e-21\n",
      "Probability of coming from C_2 = 1.0\n",
      "\n",
      "8.357918266895211\n",
      "Probability of coming from C_1 = 4.872976550793133e-27\n",
      "Probability of coming from C_2 = 1.0\n",
      "\n",
      "6.767963731651916\n",
      "Probability of coming from C_1 = 1.9216664269270208e-09\n",
      "Probability of coming from C_2 = 0.9999999980783336\n",
      "\n",
      "5.1797142187059615\n",
      "Probability of coming from C_1 = 0.7497268549278113\n",
      "Probability of coming from C_2 = 0.2502731450721886\n",
      "\n",
      "6.87079372674043\n",
      "Probability of coming from C_1 = 2.509947473183572e-10\n",
      "Probability of coming from C_2 = 0.9999999997490052\n",
      "\n"
     ]
    }
   ],
   "source": [
    "from scipy.stats import norm\n",
    "\n",
    "prob_c0_x = [] # P(C_0 | X_i)\n",
    "prob_c1_x = [] # P(C_1 | X_i)\n",
    "prob_x = [] # P(X_i)\n",
    "\n",
    "k = 2\n",
    "\n",
    "for p in data:\n",
    "    print(\"point = \", p)\n",
    "    pdf_i = []\n",
    "\n",
    "    for j in range(k):\n",
    "        # P(X_i | C_j)\n",
    "        pdf_i.append(norm.pdf(p, mean[j], var[j]))\n",
    "        print(\"probability of observing that point if it came from cluster \" + str(j) + \" = \", pdf_i[j])\n",
    "        # P(C_j) already computed\n",
    "        prob_c[j]\n",
    "\n",
    "    # P(X_i) = P(C_0)P(X_i | C_0) + P(C_1)P(X_i | C_1)\n",
    "    prob_x = prob_c[0] * pdf_i[0] + prob_c[1] * pdf_i[1]\n",
    "\n",
    "    # P(C_j | X_i) = P(X_i | C_j)P(C_j) / P(X_i)\n",
    "    prob_c0_x.append( prob_c[0] * pdf_i[0] / prob_x )\n",
    "    prob_c1_x.append( prob_c[1] * pdf_i[1] / prob_x )\n",
    "\n",
    "probs = zip(data, prob_c0_x, prob_c1_x)\n",
    "for p in probs:\n",
    "    print(p[0])\n",
    "    print(\"Probability of coming from C_1 = \" + str(p[1]))\n",
    "    print(\"Probability of coming from C_2 = \" + str(p[2]))\n",
    "    print()"
   ]
  },
  {
   "cell_type": "markdown",
   "metadata": {},
   "source": [
    "f) Having computed `P(C_j | X_i)`, update the estimates of `mean_j`, `var_j`, and `P(C_j)`. How different are these values from the original ones you got from K means? briefly comment."
   ]
  },
  {
   "cell_type": "code",
   "execution_count": 22,
   "metadata": {},
   "outputs": [
    {
     "name": "stdout",
     "output_type": "stream",
     "text": [
      "P(C_1) = 0.17369660562331588,  P(C_2) = 0.8263033943766841\n",
      "mean_1 = 4.514934068012785,  mean_2 = 7.601149335157923\n",
      "var_1 = 0.3356114818681837,  var_2 = 1.2243086749384613\n"
     ]
    }
   ],
   "source": [
    "prob_c = [sum(prob_c0_x)/ len(prob_c0_x), sum(prob_c1_x)/ len(prob_c1_x) ]\n",
    "mean = [sum([x[0] * x[1] for x in zip(prob_c0_x, data)]) / sum(prob_c0_x), sum([x[0] * x[1] for x in zip(prob_c1_x, data)]) / sum(prob_c1_x) ]\n",
    "var = [sum([x[0] * (x[1] - mean[0])**2 for x in zip(prob_c0_x, data)]) / sum(prob_c0_x), sum([x[0] * (x[1] - mean[1])**2 for x in zip(prob_c1_x, data)]) / sum(prob_c1_x)]\n",
    "\n",
    "print(\"P(C_1) = \" + str(prob_c[0]) + \",  P(C_2) = \" + str(prob_c[1]))\n",
    "print(\"mean_1 = \" + str(mean[0]) + \",  mean_2 = \" + str(mean[1]))\n",
    "print(\"var_1 = \" + str(var[0]) + \",  var_2 = \" + str(var[1]))"
   ]
  },
  {
   "cell_type": "markdown",
   "metadata": {},
   "source": [
    "g) Update `P(C_j | X_i)`. Comment on any differences or lack thereof you observe."
   ]
  },
  {
   "cell_type": "code",
   "execution_count": 23,
   "metadata": {},
   "outputs": [
    {
     "name": "stdout",
     "output_type": "stream",
     "text": [
      "Updated P(C_0 | X_i) =  [6.091054671066423e-11, 0.7618500015216632, 1.3498661979404264e-51, 4.975628595148084e-09, 5.663875817246925e-23, 1.5610820603929153e-21, 3.760463746213902e-27, 1.4829451476837694e-09, 0.578562328000558, 1.936920151251657e-10]\n",
      "Updated P(C_1 | X_i) =  [3.6710921812515243, 0.04684610025384731, 3.671092181541286, 3.6710921578713998, 3.671092181541286, 3.671092181541286, 3.671092181541286, 3.671092174486671, 0.9187757861242596, 3.6710921806198606]\n"
     ]
    }
   ],
   "source": [
    "updated_prob_c0_x = [] \n",
    "updated_prob_c1_x = []  \n",
    "\n",
    "for p, pc0_x, pc1_x in zip(data, prob_c0_x, prob_c1_x):\n",
    "    updated_pc0_x = (pc0_x * prob_c[0]) / prob_x\n",
    "    updated_pc1_x = (pc1_x * prob_c[1]) / prob_x\n",
    "\n",
    "    updated_prob_c0_x.append(updated_pc0_x)\n",
    "    updated_prob_c1_x.append(updated_pc1_x)\n",
    "\n",
    "print(\"Updated P(C_0 | X_i) = \", updated_prob_c0_x)\n",
    "print(\"Updated P(C_1 | X_i) = \", updated_prob_c1_x)"
   ]
  },
  {
   "cell_type": "markdown",
   "metadata": {},
   "source": [
    "h) Use `P(C_j | X_i)` to create a hard assignment - label each point as belonging to a specific cluster (0 or 1)"
   ]
  },
  {
   "cell_type": "code",
   "execution_count": 24,
   "metadata": {},
   "outputs": [
    {
     "name": "stdout",
     "output_type": "stream",
     "text": [
      "Hard assignments =  [1, 0, 1, 1, 1, 1, 1, 1, 1, 1]\n"
     ]
    }
   ],
   "source": [
    "hard_assignments = [] \n",
    "\n",
    "for pc0_x, pc1_x in zip(updated_prob_c0_x, updated_prob_c1_x):\n",
    "    if pc0_x >= pc1_x:\n",
    "        hard_assignments.append(0)\n",
    "    else:\n",
    "        hard_assignments.append(1)\n",
    "\n",
    "print(\"Hard assignments = \", hard_assignments)"
   ]
  },
  {
   "cell_type": "markdown",
   "metadata": {},
   "source": [
    "### Clustering Aggregation\n",
    "\n",
    "| Point | C | P |\n",
    "|-------|---|---|\n",
    "| A     | 0 | a |\n",
    "| B     | 0 | b |\n",
    "| C     | 2 | b |\n",
    "| D     | 1 | c |\n",
    "| E     | 1 | d |\n",
    "\n",
    "a) Fill in the following table where for each pair of points determine whether C and P agree or disagree on how to cluster that pair."
   ]
  },
  {
   "cell_type": "markdown",
   "metadata": {},
   "source": [
    "| Pair | Disagreement |\n",
    "|------|--------------|\n",
    "| A  B |      Disagree       |\n",
    "| A  C |      Disagree       |\n",
    "| A  D |      Disagree       |\n",
    "| A  E |      Disagree       |\n",
    "| B  C |      Disagree       |\n",
    "| B  D |      Disagree       |\n",
    "| B  E |      Disagree       |\n",
    "| C  D |      Disagree       |\n",
    "| C  E |      Disagree       |\n",
    "| D  E |      Disagree       |\n",
    "\n",
    "As the dataset becomes larger, there are more ordered pairs which means it becomes a computational burden to determine agreement for all pairs"
   ]
  },
  {
   "cell_type": "markdown",
   "metadata": {},
   "source": [
    "\n",
    "\n",
    "b) Given N points, what is the formula for the number of unique pairs of points one can create?"
   ]
  },
  {
   "cell_type": "markdown",
   "metadata": {},
   "source": [
    "(N * (N - 1)) / 2"
   ]
  },
  {
   "cell_type": "markdown",
   "metadata": {},
   "source": [
    "Assume that clustering C clusters all points in the same cluster and clustering P clusters points as such:\n",
    "\n",
    "| Point | P |\n",
    "|-------|---|\n",
    "| A     | 0 |\n",
    "| B     | 0 |\n",
    "| C     | 0 |\n",
    "| D     | 1 |\n",
    "| E     | 1 |\n",
    "| F     | 2 |\n",
    "| G     | 2 |\n",
    "| H     | 2 |\n",
    "| I     | 2 |\n",
    "\n",
    "c) What is the maximum number of disagreements there could be for a dataset of this size? (use the formula from b)?"
   ]
  },
  {
   "cell_type": "markdown",
   "metadata": {},
   "source": [
    "36"
   ]
  },
  {
   "cell_type": "markdown",
   "metadata": {},
   "source": [
    "d) If we look at cluster 0. There are (3 x 2) / 2 = 3 pairs that agree with C (since all points in C are in the same cluster). For each cluster, determine how many agreements there are. How many total agreements are there? How many disagreements does that mean there are between C and P?"
   ]
  },
  {
   "cell_type": "markdown",
   "metadata": {},
   "source": [
    "Agreements is 10 \n",
    "\n",
    "Total Disagreements is 26"
   ]
  },
  {
   "cell_type": "markdown",
   "metadata": {},
   "source": [
    "e) Assuming that filtering the dataset by cluster number is a computationally easy operation, describe an algorithm inspired by the above process that can efficiently compute disagreement distances on large datasets."
   ]
  },
  {
   "cell_type": "markdown",
   "metadata": {},
   "source": [
    "Compare points within the cluster for each clustering method"
   ]
  },
  {
   "cell_type": "markdown",
   "metadata": {},
   "source": []
  },
  {
   "cell_type": "markdown",
   "metadata": {},
   "source": []
  },
  {
   "cell_type": "markdown",
   "metadata": {},
   "source": []
  },
  {
   "cell_type": "markdown",
   "metadata": {},
   "source": []
  }
 ],
 "metadata": {
  "interpreter": {
   "hash": "76ca05dc3ea24b2e3b98cdb7774adfbb40773424bf5109b477fd793f623715af"
  },
  "kernelspec": {
   "display_name": "Python 3.9.9 64-bit ('env': venv)",
   "language": "python",
   "name": "python3"
  },
  "language_info": {
   "codemirror_mode": {
    "name": "ipython",
    "version": 3
   },
   "file_extension": ".py",
   "mimetype": "text/x-python",
   "name": "python",
   "nbconvert_exporter": "python",
   "pygments_lexer": "ipython3",
   "version": "3.10.6"
  },
  "orig_nbformat": 4
 },
 "nbformat": 4,
 "nbformat_minor": 2
}
